{
 "cells": [
  {
   "cell_type": "code",
   "execution_count": 1,
   "metadata": {
    "executionInfo": {
     "elapsed": 608,
     "status": "ok",
     "timestamp": 1636822867531,
     "user": {
      "displayName": "anjusha i t",
      "photoUrl": "https://lh3.googleusercontent.com/a/default-user=s64",
      "userId": "13103390657902749325"
     },
     "user_tz": -330
    },
    "id": "PufInfw3VwCI"
   },
   "outputs": [],
   "source": [
    "# coding: utf-8\n",
    "from math import sqrt\n",
    "import numpy as np\n",
    "import torch\n",
    "\n",
    "class cacul_r(object):\n",
    "    def __init__(self, pre_value, true_value):\n",
    "        self.pre_value = torch.tensor(pre_value)\n",
    "        self.true_value = torch.tensor(true_value)\n",
    "        # print(\"self.pre_value.type\")\n",
    "        # print(self.pre_value.type)\n",
    "        # print(\"self.true_value.type\")\n",
    "        # print(self.true_value.type)\n",
    "\n",
    "        \n",
    "\n",
    "    def mean(self,a):\n",
    "        sumofa = 0.0\n",
    "        for i in range(len(a)):\n",
    "            sumofa += a[i]\n",
    "        return sumofa/len(a)\n",
    "\n",
    "\n",
    "\n",
    "    def multipl(self, a, b):\n",
    "        sumofab = 0.0\n",
    "        for i in range(len(a)):\n",
    "            temp = a[i] * b[i]\n",
    "            sumofab += temp\n",
    "        return sumofab\n",
    "\n",
    "    def cacul(self):\n",
    "        \n",
    "        # x = output\n",
    "        # y = target\n",
    "\n",
    "        # vx = x - torch.mean(x)\n",
    "        # vy = y - torch.mean(y)\n",
    "\n",
    "        # cost = torch.sum(vx * vy) / (torch.sqrt(torch.sum(vx ** 2)) * torch.sqrt(torch.sum(vy ** 2)))  \n",
    "\n",
    "        pre_value_dif= self.pre_value-torch.mean(self.pre_value)\n",
    "        true_value_dif=self.true_value-torch.mean(self.true_value)\n",
    "\n",
    "        cost=torch.sum(pre_value_dif * true_value_dif) / (torch.sqrt(torch.sum(pre_value_dif ** 2)) * torch.sqrt(torch.sum(true_value_dif ** 2)))\n",
    "\n",
    "\n",
    "\n",
    "\n",
    "        # num=np.sum(np.multiply((self.pre_value-np.mean(self.pre_value)),((self.true_value-np.mean(self.true_value)))))\n",
    "        # den=np.multiply(np.sqrt(np.sum(np.square(self.pre_value-np.mean(self.pre_value)))),np.sqrt(np.sum(np.square(self.true_value-np.mean(self.true_value)))))\n",
    "        # print(\"num\")\n",
    "        # print(num)\n",
    "        # print(\"den\")\n",
    "        # print(den)\n",
    "\n",
    "        # result= num/den\n",
    "        # print(\"result\")\n",
    "        # print(result)\n",
    "\n",
    "        # result_tens=torch.FloatTensor(result)\n",
    "        # print(\"result_tens\")\n",
    "        # print(result_tens)\n",
    "\n",
    "        return cost #######return num / den\n"
   ]
  },
  {
   "cell_type": "code",
   "execution_count": null,
   "metadata": {},
   "outputs": [],
   "source": []
  }
 ],
 "metadata": {
  "colab": {
   "authorship_tag": "ABX9TyM+2FqHuRu7eN+2pNUQDW3O",
   "collapsed_sections": [],
   "name": "cacul_r3.ipynb",
   "provenance": []
  },
  "kernelspec": {
   "display_name": "Python 3 (ipykernel)",
   "language": "python",
   "name": "python3"
  },
  "language_info": {
   "codemirror_mode": {
    "name": "ipython",
    "version": 3
   },
   "file_extension": ".py",
   "mimetype": "text/x-python",
   "name": "python",
   "nbconvert_exporter": "python",
   "pygments_lexer": "ipython3",
   "version": "3.8.10"
  }
 },
 "nbformat": 4,
 "nbformat_minor": 1
}
